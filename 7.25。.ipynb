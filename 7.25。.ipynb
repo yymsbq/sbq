{
 "cells": [
  {
   "cell_type": "markdown",
   "metadata": {},
   "source": [
    "# 列表List\n",
    "- 一个列表可以储存任意大小的数据集合，你可以理解为他是一个容器"
   ]
  },
  {
   "cell_type": "markdown",
   "metadata": {},
   "source": [
    "## 先来一个例子爽一爽\n",
    "![](../Photo/115.png)"
   ]
  },
  {
   "cell_type": "code",
   "execution_count": 3,
   "metadata": {},
   "outputs": [
    {
     "data": {
      "text/plain": [
       "[1, 2, 3, 1, 2, 3, '123']"
      ]
     },
     "execution_count": 3,
     "metadata": {},
     "output_type": "execute_result"
    }
   ],
   "source": [
    "[1,2,3]+[1,2,3,'123']"
   ]
  },
  {
   "cell_type": "code",
   "execution_count": 19,
   "metadata": {
    "collapsed": true
   },
   "outputs": [],
   "source": [
    "c4 = [['Joker',['shuaishuai',0],19],['lala',['meimei',-1],80],['caoyuan',['yuanyuan',8],5]]\n",
    "c4.sort(key = lambda x:x[0][1][0])"
   ]
  },
  {
   "cell_type": "code",
   "execution_count": 20,
   "metadata": {},
   "outputs": [
    {
     "data": {
      "text/plain": [
       "[['lala', ['meimei', -1], 80],\n",
       " ['caoyuan', ['yuanyuan', 8], 5],\n",
       " ['Joker', ['shuaishuai', 0], 19]]"
      ]
     },
     "execution_count": 20,
     "metadata": {},
     "output_type": "execute_result"
    }
   ],
   "source": [
    "c4"
   ]
  },
  {
   "cell_type": "code",
   "execution_count": 21,
   "metadata": {
    "collapsed": true
   },
   "outputs": [],
   "source": [
    "c4.sort(key = lambda x:x[0][2][0])"
   ]
  },
  {
   "cell_type": "code",
   "execution_count": 22,
   "metadata": {},
   "outputs": [
    {
     "data": {
      "text/plain": [
       "[['Joker', ['shuaishuai', 0], 19],\n",
       " ['lala', ['meimei', -1], 80],\n",
       " ['caoyuan', ['yuanyuan', 8], 5]]"
      ]
     },
     "execution_count": 22,
     "metadata": {},
     "output_type": "execute_result"
    }
   ],
   "source": [
    "c4"
   ]
  },
  {
   "cell_type": "markdown",
   "metadata": {},
   "source": [
    "## 创建一个列表\n",
    "- a = [1,2,3,4,5]"
   ]
  },
  {
   "cell_type": "markdown",
   "metadata": {},
   "source": [
    "## 列表的一般操作\n",
    "![](../Photo/116.png)"
   ]
  },
  {
   "cell_type": "markdown",
   "metadata": {},
   "source": [
    "## 列表索引操作\n",
    "- Mylist[index]\n",
    "- 正序索引，逆序索引\n",
    "- 列表一定注意越界\n",
    "- ![](../Photo/117.png)"
   ]
  },
  {
   "cell_type": "markdown",
   "metadata": {},
   "source": [
    "## 列表切片操作\n",
    "- Mylist[start:end]\n",
    "- 正序切片，逆序切片"
   ]
  },
  {
   "cell_type": "markdown",
   "metadata": {},
   "source": [
    "## 列表 +、*、in 、not in"
   ]
  },
  {
   "cell_type": "markdown",
   "metadata": {},
   "source": [
    "## 使用for循环遍历元素\n",
    "- for 循环可以遍历一切可迭代元素"
   ]
  },
  {
   "cell_type": "markdown",
   "metadata": {},
   "source": [
    "## EP：\n",
    "- 使用while 循环遍历列表"
   ]
  },
  {
   "cell_type": "markdown",
   "metadata": {},
   "source": [
    "## 列表的比较\n",
    "- \\>,<,>=,<=,==,!="
   ]
  },
  {
   "cell_type": "markdown",
   "metadata": {},
   "source": [
    "## 列表生成式\n",
    "[x for x in range(10)]"
   ]
  },
  {
   "cell_type": "markdown",
   "metadata": {},
   "source": [
    "## 列表的方法\n",
    "![](../Photo/118.png)"
   ]
  },
  {
   "cell_type": "markdown",
   "metadata": {},
   "source": [
    "## 将字符串分割成列表\n",
    "- split  按照自定义的内容拆分"
   ]
  },
  {
   "cell_type": "markdown",
   "metadata": {},
   "source": [
    "## EP:\n",
    "![](../Photo/119.png)\n",
    "![](../Photo/120.png)"
   ]
  },
  {
   "cell_type": "markdown",
   "metadata": {},
   "source": [
    "## 列表的复制\n",
    "- copy 浅复制\n",
    "- deepcopy import copy  深复制\n",
    "- http://www.pythontutor.com/visualize.html#mode=edit"
   ]
  },
  {
   "cell_type": "markdown",
   "metadata": {},
   "source": [
    "## 列表排序\n",
    "- sort\n",
    "- sorted\n",
    "- 列表的多级排序\n",
    "    - 匿名函数"
   ]
  },
  {
   "cell_type": "markdown",
   "metadata": {},
   "source": [
    "## EP：\n",
    "- 手动排序该列表[5,3,8,0,17]，以升序或者降序"
   ]
  },
  {
   "cell_type": "code",
   "execution_count": 31,
   "metadata": {},
   "outputs": [
    {
     "name": "stdout",
     "output_type": "stream",
     "text": [
      "[0, 3, 5, 8, 17]\n"
     ]
    }
   ],
   "source": [
    "def bubbleSort(nums):\n",
    "    for i in range(len(nums)-1):    \n",
    "        for j in range(len(nums)-i-1):  \n",
    "            if nums[j] > nums[j+1]:\n",
    "                nums[j], nums[j+1] = nums[j+1], nums[j]\n",
    "    return nums\n",
    "\n",
    "nums = [5,3,8,0,17]\n",
    "\n",
    "print (bubbleSort(nums))"
   ]
  },
  {
   "cell_type": "markdown",
   "metadata": {},
   "source": [
    "- 1\n",
    "![](../Photo/121.png)"
   ]
  },
  {
   "cell_type": "code",
   "execution_count": 9,
   "metadata": {},
   "outputs": [
    {
     "name": "stdout",
     "output_type": "stream",
     "text": [
      ">>40\n",
      ">>55\n",
      ">>70\n",
      ">>58\n",
      "C\n",
      "B\n",
      "A\n",
      "B\n"
     ]
    }
   ],
   "source": [
    "scores = []\n",
    "for i in range(4):\n",
    "    s = eval(input('>>'))\n",
    "    scores.append(s)\n",
    "mnum = max(scores)\n",
    "for i in scores:\n",
    "    if i >= mnum-10:\n",
    "        print('A')\n",
    "    elif i>=mnum-20:\n",
    "        print('B')\n",
    "    elif i >= mnum-30:\n",
    "        print('C')\n",
    "    elif i>=mnum-40:\n",
    "        print('D')\n",
    "    else:\n",
    "        print('F')\n"
   ]
  },
  {
   "cell_type": "markdown",
   "metadata": {},
   "source": [
    "- 2\n",
    "![](../Photo/122.png)"
   ]
  },
  {
   "cell_type": "code",
   "execution_count": 17,
   "metadata": {},
   "outputs": [
    {
     "name": "stdout",
     "output_type": "stream",
     "text": [
      ">>2 3 4\n",
      "[4, 3, 2]\n"
     ]
    }
   ],
   "source": [
    "a = []\n",
    "a = input('>>').split(' ')\n",
    "numbers = list(map(int, a))\n",
    "numbers.reverse()\n",
    "print(numbers)"
   ]
  },
  {
   "cell_type": "markdown",
   "metadata": {},
   "source": [
    "- 3\n",
    "![](../Photo/123.png)"
   ]
  },
  {
   "cell_type": "code",
   "execution_count": 23,
   "metadata": {},
   "outputs": [
    {
     "name": "stdout",
     "output_type": "stream",
     "text": [
      ">>2 5 6 5 4 3 23 43 2\n",
      "2 2\n",
      "3 1\n",
      "4 1\n",
      "5 2\n",
      "6 1\n",
      "23 1\n",
      "43 1\n"
     ]
    }
   ],
   "source": [
    "i = 1\n",
    "nums = {}\n",
    "while i<101:\n",
    "    nums[i] = 0\n",
    "    i+=1\n",
    "a = []\n",
    "a = input('>>').split(' ')\n",
    "numbers = list(map(int, a))\n",
    "for i in numbers:\n",
    "    nums[i] += 1\n",
    "for i in range(1,101):\n",
    "    if nums[i]!=0:\n",
    "        print(i,nums[i])"
   ]
  },
  {
   "cell_type": "markdown",
   "metadata": {},
   "source": [
    "- 4\n",
    "![](../Photo/124.png)"
   ]
  },
  {
   "cell_type": "code",
   "execution_count": 25,
   "metadata": {},
   "outputs": [
    {
     "name": "stdout",
     "output_type": "stream",
     "text": [
      ">>1 2 3 4 5\n",
      "大于等于平均 3\n",
      "小于平均 2\n"
     ]
    }
   ],
   "source": [
    "a = []\n",
    "a = input('>>').split(' ')\n",
    "numbers = list(map(int, a))\n",
    "mean = sum(numbers) / len(numbers)\n",
    "bn = 0\n",
    "ln = 0\n",
    "for i in numbers:\n",
    "    if i>=mean:\n",
    "        bn+=1\n",
    "    else:\n",
    "        ln+=1\n",
    "print('大于等于平均',bn)\n",
    "print('小于平均',ln)"
   ]
  },
  {
   "cell_type": "markdown",
   "metadata": {},
   "source": [
    "- 5\n",
    "![](../Photo/125.png)"
   ]
  },
  {
   "cell_type": "code",
   "execution_count": 29,
   "metadata": {},
   "outputs": [
    {
     "name": "stdout",
     "output_type": "stream",
     "text": [
      "0: 86 1: 102 2: 109 3: 86 4: 97 5: 88 6: 111 7: 110 8: 97 9: 114\n"
     ]
    }
   ],
   "source": [
    "import random\n",
    "randn = []\n",
    "for i in range(1000):\n",
    "    n = random.randint(0,9)\n",
    "    randn.append(n)\n",
    "print('0:',randn.count(0),'1:',randn.count(1),'2:',randn.count(2),'3:',randn.count(3),'4:',randn.count(4),'5:',randn.count(5),'6:',randn.count(6),'7:',randn.count(7),'8:',randn.count(8),'9:',randn.count(9))"
   ]
  },
  {
   "cell_type": "markdown",
   "metadata": {},
   "source": [
    "- 6\n",
    "![](../Photo/126.png)"
   ]
  },
  {
   "cell_type": "code",
   "execution_count": 33,
   "metadata": {},
   "outputs": [
    {
     "name": "stdout",
     "output_type": "stream",
     "text": [
      ">>1 2 3 1 1\n"
     ]
    },
    {
     "data": {
      "text/plain": [
       "0"
      ]
     },
     "execution_count": 33,
     "metadata": {},
     "output_type": "execute_result"
    }
   ],
   "source": [
    "def indexOfSmallestElement(lst):\n",
    "    small = min(lst)\n",
    "    cs = lst.count(small)\n",
    "    if cs>1:\n",
    "        return lst.index(small)\n",
    "a = []\n",
    "a = input('>>').split(' ')\n",
    "numbers = list(map(int, a))\n",
    "indexOfSmallestElement(numbers)\n",
    "        "
   ]
  },
  {
   "cell_type": "markdown",
   "metadata": {},
   "source": [
    "- 7\n",
    "![](../Photo/127.png)\n",
    "![](../Photo/128.png)"
   ]
  },
  {
   "cell_type": "code",
   "execution_count": 41,
   "metadata": {},
   "outputs": [
    {
     "name": "stdout",
     "output_type": "stream",
     "text": [
      ">>2 3 4 5\n",
      "[4, 5, 2, 3]\n"
     ]
    }
   ],
   "source": [
    "import random\n",
    "def shuffle(lst):\n",
    "    b = []\n",
    "    while len(lst)!=0:\n",
    "        n = random.randint(0,len(lst)-1)\n",
    "        c = numbers.pop(n)\n",
    "        b.append(c)\n",
    "    print(b)\n",
    "a = []\n",
    "a = input('>>').split(' ')\n",
    "numbers = list(map(int, a))\n",
    "shuffle(numbers)"
   ]
  },
  {
   "cell_type": "markdown",
   "metadata": {},
   "source": [
    "- 8\n",
    "![](../Photo/129.png)"
   ]
  },
  {
   "cell_type": "code",
   "execution_count": 44,
   "metadata": {},
   "outputs": [
    {
     "name": "stdout",
     "output_type": "stream",
     "text": [
      ">>1 2 3 2 1 6 3 4 5 2\n"
     ]
    },
    {
     "data": {
      "text/plain": [
       "[1, 2, 3, 4, 5, 6]"
      ]
     },
     "execution_count": 44,
     "metadata": {},
     "output_type": "execute_result"
    }
   ],
   "source": [
    "def eliminateDuplicates(lst):\n",
    "    return list(set(lst))\n",
    "a = []\n",
    "a = input('>>').split(' ')\n",
    "numbers = list(map(int, a))\n",
    "eliminateDuplicates(numbers)"
   ]
  },
  {
   "cell_type": "markdown",
   "metadata": {},
   "source": [
    "- 9\n",
    "![](../Photo/130.png)"
   ]
  },
  {
   "cell_type": "code",
   "execution_count": 50,
   "metadata": {},
   "outputs": [
    {
     "name": "stdout",
     "output_type": "stream",
     "text": [
      ">>1 1 3 4 4 5 7 9 10 30 11\n",
      "no\n"
     ]
    }
   ],
   "source": [
    "def isSorted(lst):\n",
    "    n = 0\n",
    "    for i in range(len(lst)-1):\n",
    "        if lst[i+1]>=lst[i]:\n",
    "            n+=1\n",
    "    if n== len(lst)-1:\n",
    "        print('yes')\n",
    "    else:\n",
    "        print('no')\n",
    "a = []\n",
    "a = input('>>').split(' ')\n",
    "numbers = list(map(int, a))\n",
    "isSorted(numbers)"
   ]
  },
  {
   "cell_type": "markdown",
   "metadata": {},
   "source": [
    "- 10\n",
    "![](../Photo/131.png)"
   ]
  },
  {
   "cell_type": "code",
   "execution_count": 1,
   "metadata": {},
   "outputs": [
    {
     "name": "stdout",
     "output_type": "stream",
     "text": [
      ">>2 3 4 5 6 1212 2 3\n"
     ]
    },
    {
     "data": {
      "text/plain": [
       "[2, 2, 3, 3, 4, 5, 6, 1212]"
      ]
     },
     "execution_count": 1,
     "metadata": {},
     "output_type": "execute_result"
    }
   ],
   "source": [
    "def bubbleSort(nums):\n",
    "    for i in range(len(nums)-1):    \n",
    "        for j in range(len(nums)-i-1):  \n",
    "            if nums[j] > nums[j+1]:\n",
    "                nums[j], nums[j+1] = nums[j+1], nums[j]\n",
    "    return nums\n",
    "a = []\n",
    "a = input('>>').split(' ')\n",
    "numbers = list(map(int, a))\n",
    "bubbleSort(numbers)"
   ]
  },
  {
   "cell_type": "markdown",
   "metadata": {},
   "source": [
    "- 11\n",
    "![](../Photo/132.png)"
   ]
  },
  {
   "cell_type": "markdown",
   "metadata": {},
   "source": [
    "- 12\n",
    "![](../Photo/133.png)"
   ]
  },
  {
   "cell_type": "code",
   "execution_count": 14,
   "metadata": {},
   "outputs": [
    {
     "name": "stdout",
     "output_type": "stream",
     "text": [
      ">>2 2 1 1 1 1\n",
      "Yes\n"
     ]
    }
   ],
   "source": [
    "def isConsecutiveFour(values):\n",
    "    if len(values)>=4:\n",
    "        for i in range(len(values)-3):\n",
    "            if values[i]==values[i+1]==values[i+2]==values[i+3]:\n",
    "                print('Yes')\n",
    "                break\n",
    "        else:\n",
    "            print('No')\n",
    "                \n",
    "    else:\n",
    "        print('No')\n",
    "a = []\n",
    "a = input('>>').split(' ')\n",
    "numbers = list(map(int, a))\n",
    "isConsecutiveFour(numbers)"
   ]
  }
 ],
 "metadata": {
  "kernelspec": {
   "display_name": "Python 3",
   "language": "python",
   "name": "python3"
  },
  "language_info": {
   "codemirror_mode": {
    "name": "ipython",
    "version": 3
   },
   "file_extension": ".py",
   "mimetype": "text/x-python",
   "name": "python",
   "nbconvert_exporter": "python",
   "pygments_lexer": "ipython3",
   "version": "3.6.1"
  }
 },
 "nbformat": 4,
 "nbformat_minor": 2
}
