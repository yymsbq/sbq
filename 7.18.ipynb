{
 "cells": [
  {
   "cell_type": "markdown",
   "metadata": {},
   "source": [
    "# 选择\n",
    "## 布尔类型、数值和表达式\n",
    "![](../Photo/33.png)\n",
    "- 注意：比较运算符的相等是两个等到，一个等到代表赋值\n",
    "- 在Python中可以用整型0来代表False，其他数字来代表True\n",
    "- 后面还会讲到 is 在判断语句中的用发"
   ]
  },
  {
   "cell_type": "code",
   "execution_count": 1,
   "metadata": {},
   "outputs": [
    {
     "data": {
      "text/plain": [
       "False"
      ]
     },
     "execution_count": 1,
     "metadata": {},
     "output_type": "execute_result"
    }
   ],
   "source": [
    "1>2"
   ]
  },
  {
   "cell_type": "code",
   "execution_count": null,
   "metadata": {
    "collapsed": true
   },
   "outputs": [],
   "source": [
    "for i range(10)"
   ]
  },
  {
   "cell_type": "code",
   "execution_count": null,
   "metadata": {
    "collapsed": true
   },
   "outputs": [],
   "source": [
    " a=100\n",
    "b=eval(input('money: '))\n",
    "if(b<=a):\n",
    "    print('把钱都给你')\n",
    "    a=a-b\n",
    "    print('余额： ',a)"
   ]
  },
  {
   "cell_type": "code",
   "execution_count": null,
   "metadata": {
    "collapsed": true
   },
   "outputs": [],
   "source": []
  },
  {
   "cell_type": "code",
   "execution_count": null,
   "metadata": {
    "collapsed": true
   },
   "outputs": [],
   "source": []
  },
  {
   "cell_type": "markdown",
   "metadata": {},
   "source": [
    "## 字符串的比较使用ASCII值"
   ]
  },
  {
   "cell_type": "markdown",
   "metadata": {},
   "source": [
    "## Markdown \n",
    "- https://github.com/younghz/Markdown"
   ]
  },
  {
   "cell_type": "markdown",
   "metadata": {},
   "source": [
    "## EP:\n",
    "- <img src=\"../Photo/34.png\"></img>\n",
    "- 输入一个数字，判断其实奇数还是偶数"
   ]
  },
  {
   "cell_type": "markdown",
   "metadata": {},
   "source": [
    "## 产生随机数字\n",
    "- 函数random.randint(a,b) 可以用来产生一个a和b之间且包括a和b的随机整数"
   ]
  },
  {
   "cell_type": "code",
   "execution_count": 7,
   "metadata": {},
   "outputs": [
    {
     "data": {
      "text/plain": [
       "2"
      ]
     },
     "execution_count": 7,
     "metadata": {},
     "output_type": "execute_result"
    }
   ],
   "source": [
    "import random\n",
    "random.randint(1,3)"
   ]
  },
  {
   "cell_type": "markdown",
   "metadata": {},
   "source": [
    "##  其他random方法\n",
    "- random.random 返回0.0到1.0之间前闭后开区间的随机浮点\n",
    "- random.randrange(a,b) 前闭后开"
   ]
  },
  {
   "cell_type": "code",
   "execution_count": 8,
   "metadata": {},
   "outputs": [
    {
     "data": {
      "text/plain": [
       "0.2640031976900109"
      ]
     },
     "execution_count": 8,
     "metadata": {},
     "output_type": "execute_result"
    }
   ],
   "source": [
    "import random\n",
    "random.random()\n"
   ]
  },
  {
   "cell_type": "markdown",
   "metadata": {},
   "source": [
    "## EP：\n",
    "- 产生两个随机整数number1和number2，然后显示给用户，使用户输入数字的和，并判定其是否正确\n",
    "- 进阶:写一个随机序号点名程序"
   ]
  },
  {
   "cell_type": "code",
   "execution_count": 9,
   "metadata": {},
   "outputs": [
    {
     "name": "stdout",
     "output_type": "stream",
     "text": [
      "98    18\n",
      "116\n"
     ]
    }
   ],
   "source": [
    "import random\n",
    "a = random.randint(1,99)\n",
    "b = random.randint(1,99)\n",
    "print(a,'  ',b)\n",
    "c=a+b\n",
    "print(c)"
   ]
  },
  {
   "cell_type": "code",
   "execution_count": 18,
   "metadata": {},
   "outputs": [
    {
     "name": "stdout",
     "output_type": "stream",
     "text": [
      "50\n"
     ]
    }
   ],
   "source": [
    "import random\n",
    "a = random.randint(1,51)\n",
    "print(a)"
   ]
  },
  {
   "cell_type": "markdown",
   "metadata": {},
   "source": [
    "## if语句\n",
    "- 如果条件正确就执行一个单向if语句，亦即当条件为真的时候才执行if内部的语句\n",
    "- Python有很多选择语句:\n",
    "> - 单向if \n",
    "  - 双向if-else\n",
    "  - 嵌套if\n",
    "  - 多向if-elif-else\n",
    "  \n",
    "- 注意：当语句含有子语句的时候，那么一定至少要有一个缩进，也就是说如果有儿子存在，那么一定要缩进\n",
    "- 切记不可tab键和space混用，单用tab 或者 space\n",
    "- 当你输出的结果是无论if是否为真时都需要显示时，语句应该与if对齐"
   ]
  },
  {
   "cell_type": "markdown",
   "metadata": {},
   "source": [
    "## EP：\n",
    "- 用户输入一个数字，判断其实奇数还是偶数\n",
    "- 进阶：可以查看下4.5实例研究猜生日"
   ]
  },
  {
   "cell_type": "code",
   "execution_count": 11,
   "metadata": {},
   "outputs": [
    {
     "name": "stdout",
     "output_type": "stream",
     "text": [
      "q0\n",
      "ou\n"
     ]
    }
   ],
   "source": [
    "a=eval(input('q'))\n",
    "if a%2==0:\n",
    "    print('ou')\n",
    "elif a%2==1:\n",
    "    print('ji')\n",
    "elif a==0:\n",
    "    print('0既不是奇数也不是偶数')"
   ]
  },
  {
   "cell_type": "code",
   "execution_count": 1,
   "metadata": {},
   "outputs": [
    {
     "name": "stdout",
     "output_type": "stream",
     "text": [
      "chengji11\n",
      "GG\n"
     ]
    }
   ],
   "source": [
    "a=eval(input('chengji'))\n",
    "if a>90:\n",
    "    print('A')\n",
    "elif a>80:\n",
    "    print('B')\n",
    "elif a>70:\n",
    "    print('C')\n",
    "elif a>60:\n",
    "    print('D')\n",
    "else:\n",
    "    print('GG')\n",
    "    "
   ]
  },
  {
   "cell_type": "code",
   "execution_count": null,
   "metadata": {
    "collapsed": true
   },
   "outputs": [],
   "source": []
  },
  {
   "cell_type": "markdown",
   "metadata": {},
   "source": [
    "## 双向if-else 语句\n",
    "- 如果条件为真，那么走if内部语句，否则走else内部语句"
   ]
  },
  {
   "cell_type": "markdown",
   "metadata": {},
   "source": [
    "## EP：\n",
    "- 产生两个随机整数number1和number2，然后显示给用户，使用户输入数字，并判定其是否正确,如果正确打印“you‘re correct”，否则打印正确错误"
   ]
  },
  {
   "cell_type": "markdown",
   "metadata": {},
   "source": [
    "## 嵌套if 和多向if-elif-else\n",
    "![](../Photo/35.png)"
   ]
  },
  {
   "cell_type": "markdown",
   "metadata": {},
   "source": [
    "## EP：\n",
    "- 提示用户输入一个年份，然后显示表示这一年的动物\n",
    "![](../Photo/36.png)\n",
    "- 计算身体质量指数的程序\n",
    "- BMI = 以千克为单位的体重除以以米为单位的身高\n",
    "![](../Photo/37.png)"
   ]
  },
  {
   "cell_type": "code",
   "execution_count": 13,
   "metadata": {},
   "outputs": [
    {
     "name": "stdout",
     "output_type": "stream",
     "text": [
      "输入年份1997\n",
      "牛\n"
     ]
    }
   ],
   "source": [
    "year=eval(input('输入年份'))\n",
    "if year%12==0:\n",
    "    print('猴')\n",
    "elif year%12==1:\n",
    "    print('鸡')\n",
    "elif year%12==2:\n",
    "    print('狗')\n",
    "elif year%12==3:\n",
    "    print('猪')\n",
    "elif year%12==4:\n",
    "    print('鼠')\n",
    "elif year%12==5:\n",
    "    print('牛')\n",
    "elif year%12==6:\n",
    "    print('虎')\n",
    "elif year%12==7:\n",
    "    print('兔')\n",
    "elif year%12==8:\n",
    "    print('龙')\n",
    "elif year%12==9:\n",
    "    print('蛇')\n",
    "elif year%12==10:\n",
    "    print('马')\n",
    "elif year%12==11:\n",
    "    print('羊')\n"
   ]
  },
  {
   "cell_type": "code",
   "execution_count": null,
   "metadata": {},
   "outputs": [],
   "source": [
    "sg=eval(input('sg'))\n",
    "tz=eval(input('tz'))\n",
    "BMI=tz/(sg*sg)\n",
    "if BMI<18.5:\n",
    "    print('超轻')\n",
    "elif 18.5<=BMI<25.0:\n",
    "    print('标准')\n",
    "elif 25.0<=BMI<30.0:\n",
    "    print('超重')\n",
    "elif 30.0<=BMI:\n",
    "    print('痴肥')"
   ]
  },
  {
   "cell_type": "markdown",
   "metadata": {},
   "source": [
    "## 逻辑运算符\n",
    "![](../Photo/38.png)"
   ]
  },
  {
   "cell_type": "markdown",
   "metadata": {},
   "source": [
    "![](../Photo/39.png)\n",
    "![](../Photo/40.png)"
   ]
  },
  {
   "cell_type": "markdown",
   "metadata": {},
   "source": [
    "## EP：\n",
    "- 判定闰年：一个年份如果能被4整除但不能被100整除，或者能被400整除，那么这个年份就是闰年\n",
    "- 提示用户输入一个年份，并返回是否是闰年\n",
    "- 提示用户输入一个数字，判断其是否为水仙花数"
   ]
  },
  {
   "cell_type": "code",
   "execution_count": 2,
   "metadata": {},
   "outputs": [
    {
     "name": "stdout",
     "output_type": "stream",
     "text": [
      "num2000\n",
      "2000 是闰年\n"
     ]
    }
   ],
   "source": [
    "a=eval(input('num'))\n",
    "if ( ((a%4==0) and (a%100!=0) ) or (a%400==0)):\n",
    "    print(a,'是闰年')\n",
    "else:\n",
    "    print(a,'不是闰年')"
   ]
  },
  {
   "cell_type": "code",
   "execution_count": 7,
   "metadata": {},
   "outputs": [
    {
     "name": "stdout",
     "output_type": "stream",
     "text": [
      "输入三位数407\n",
      "407 是水仙花数\n"
     ]
    }
   ],
   "source": [
    "q=eval(input('输入三位数'))\n",
    "a=q//100\n",
    "b=(q-a*100)//10\n",
    "c=q-a*100-b*10\n",
    "if a*a*a+b*b*b+c*c*c==q:\n",
    "    print(q,'是水仙花数')"
   ]
  },
  {
   "cell_type": "code",
   "execution_count": 10,
   "metadata": {},
   "outputs": [
    {
     "name": "stdout",
     "output_type": "stream",
     "text": [
      "输入三位数153\n",
      "153 是水仙花数\n"
     ]
    }
   ],
   "source": [
    "num=eval(input('输入三位数'))\n",
    "str_num=str(num)\n",
    "bai = int(str_num[0])\n",
    "shi = int(str_num[1])\n",
    "ge= int (str_num[2])\n",
    "if (bai**3+shi**3+ge**3 )== num:\n",
    "    print(num,'是水仙花数')\n",
    "else:\n",
    "    print('不是')"
   ]
  },
  {
   "cell_type": "code",
   "execution_count": 8,
   "metadata": {},
   "outputs": [
    {
     "name": "stdout",
     "output_type": "stream",
     "text": [
      "153\n",
      "370\n",
      "371\n",
      "407\n"
     ]
    }
   ],
   "source": [
    "for q in range (100,1000):\n",
    "    a=q//100\n",
    "    b=(q-a*100)//10\n",
    "    c=q-a*100-b*10\n",
    "    if a*a*a+b*b*b+c*c*c==q:\n",
    "        print(q)"
   ]
  },
  {
   "cell_type": "markdown",
   "metadata": {},
   "source": [
    "## 实例研究：彩票\n",
    "![](../Photo/41.png)"
   ]
  },
  {
   "cell_type": "code",
   "execution_count": 2,
   "metadata": {},
   "outputs": [
    {
     "name": "stdout",
     "output_type": "stream",
     "text": [
      "74\n",
      "请随机输入一个两位数70\n",
      "1000\n"
     ]
    }
   ],
   "source": [
    "import random\n",
    "home=random.randint(10,100)\n",
    "print(home)\n",
    "user=eval(input('请随机输入一个两位数'))\n",
    "a1=home//10\n",
    "a2=home-a1*10\n",
    "b1=user//10\n",
    "b2=user-a1*10\n",
    "if home==user:\n",
    "    print('$10000')\n",
    "elif (a1==b1 and a2==b2 )  or  (a1==b2 and a2==b1):\n",
    "    print('3000')\n",
    "elif (a1==b1) or (a2==b2) or (a1==b2) or (a2==b1):\n",
    "    print('1000')\n",
    "else :\n",
    "    print('没钱')"
   ]
  },
  {
   "cell_type": "markdown",
   "metadata": {},
   "source": [
    "# Homework\n",
    "- 1\n",
    "![](../Photo/42.png)"
   ]
  },
  {
   "cell_type": "code",
   "execution_count": 7,
   "metadata": {},
   "outputs": [
    {
     "name": "stdout",
     "output_type": "stream",
     "text": [
      "input: a,b,c:1,3,1\n",
      "the root are -0.3819660112501051 and -2.618033988749895\n"
     ]
    }
   ],
   "source": [
    "import math\n",
    "\n",
    "a, b, c = eval(input('input: a,b,c:'))\n",
    "w = b *b -4 * a * c\n",
    "\n",
    "if w > 0:\n",
    "    r1 = (-b + math.sqrt(w)) / 2 * a\n",
    "    r2 = (-b - math.sqrt(w)) / 2 * a\n",
    "    print('the root are',r1, 'and', r2)\n",
    "elif w == 0:\n",
    "    r1 = (-b + math.sqrt(w)) / 2 * a\n",
    "    print('the root is',r1)\n",
    "elif w<0:\n",
    "    print('the equation has no real roots')\n"
   ]
  },
  {
   "cell_type": "markdown",
   "metadata": {},
   "source": [
    "- 2\n",
    "![](../Photo/43.png)"
   ]
  },
  {
   "cell_type": "code",
   "execution_count": 8,
   "metadata": {},
   "outputs": [
    {
     "name": "stdout",
     "output_type": "stream",
     "text": [
      "19 15\n"
     ]
    }
   ],
   "source": [
    "import random\n",
    "a=random.randint(0,100)\n",
    "b=random.randint(0,100)\n",
    "print(a,b)\n",
    "c=eval(input('请输入这两个数的和'))\n",
    "if c==a+b:\n",
    "    print('TRUE')\n",
    "else:\n",
    "    print('FALSE')"
   ]
  },
  {
   "cell_type": "markdown",
   "metadata": {},
   "source": [
    "- 3\n",
    "![](../Photo/44.png)"
   ]
  },
  {
   "cell_type": "code",
   "execution_count": null,
   "metadata": {
    "collapsed": true
   },
   "outputs": [],
   "source": []
  },
  {
   "cell_type": "markdown",
   "metadata": {},
   "source": [
    "- 4\n",
    "![](../Photo/45.png)"
   ]
  },
  {
   "cell_type": "code",
   "execution_count": 12,
   "metadata": {},
   "outputs": [
    {
     "name": "stdout",
     "output_type": "stream",
     "text": [
      "input 3 number1,4,2\n",
      "1 2 4\n"
     ]
    }
   ],
   "source": [
    "a,b,c=eval(input('input 3 number'))\n",
    "if a>b :\n",
    "    d=a\n",
    "    a=b\n",
    "    b=d\n",
    "if a>c:\n",
    "    d=a\n",
    "    a=c\n",
    "    c=d\n",
    "if b > c:\n",
    "    d = b\n",
    "    b = c\n",
    "    c = d\n",
    "\n",
    "print(a,b,c)\n"
   ]
  },
  {
   "cell_type": "markdown",
   "metadata": {},
   "source": [
    "- 5\n",
    "![](../Photo/46.png)"
   ]
  },
  {
   "cell_type": "code",
   "execution_count": null,
   "metadata": {
    "collapsed": true
   },
   "outputs": [],
   "source": [
    "a1,b1=eval(input('input a1,b1: '))\n",
    "a2,b2=eval(input('input a2,b2: '))\n",
    "x1=a1/b1\n",
    "x2=a2/b2\n",
    "if x1>x2:\n",
    "    print('x1划算')\n",
    "elif x1<x2:\n",
    "    print('x2划算')\n",
    "else:\n",
    "    print('都一样')\n"
   ]
  },
  {
   "cell_type": "markdown",
   "metadata": {},
   "source": [
    "- 6\n",
    "![](../Photo/47.png)"
   ]
  },
  {
   "cell_type": "code",
   "execution_count": 1,
   "metadata": {},
   "outputs": [
    {
     "name": "stdout",
     "output_type": "stream",
     "text": [
      "输入年份和月份2008,2\n",
      "该月29天\n"
     ]
    }
   ],
   "source": [
    "y,m=eval(input('输入年份和月份'))\n",
    "\n",
    "if m==2 and (y%4==0 and y%100!=100 or y%400==0):\n",
    "    print('该月29天')\n",
    "elif m==2 and y%4!=0:\n",
    "    print('该月28天')\n",
    "elif m in(1,3,5,7,8,10,12):\n",
    "    print('该月31天')\n",
    "elif m in (2, 4, 6, 9, 11):\n",
    "    print('该月30天')"
   ]
  },
  {
   "cell_type": "markdown",
   "metadata": {},
   "source": [
    "- 7\n",
    "![](../Photo/48.png)"
   ]
  },
  {
   "cell_type": "code",
   "execution_count": 20,
   "metadata": {},
   "outputs": [
    {
     "name": "stdout",
     "output_type": "stream",
     "text": [
      "0\n",
      "请输入1（正面）或0（反面）1\n",
      "没对\n"
     ]
    }
   ],
   "source": [
    "import random\n",
    "a=random.randint(0,1)\n",
    "print(a)\n",
    "b=eval(input('请输入1（正面）或0（反面）'))\n",
    "if a==b:\n",
    "    print('对了')\n",
    "else:\n",
    "    print('没对')\n"
   ]
  },
  {
   "cell_type": "markdown",
   "metadata": {},
   "source": [
    "- 8\n",
    "![](../Photo/49.png)"
   ]
  },
  {
   "cell_type": "code",
   "execution_count": null,
   "metadata": {},
   "outputs": [],
   "source": [
    "import random\n",
    "a=random.randint(0,2)\n",
    "print(a)\n",
    "b=eval(input('输入0,1,2: '))\n",
    "if (b == 0 and a == 2) or (b == 1 and a == 0) or (b == 2 and a == 1):\n",
    "    print(\"你赢了\")\n",
    "elif a == b:\n",
    "    print(\"平局\")\n",
    "else:\n",
    "     print(\"你输了\")"
   ]
  },
  {
   "cell_type": "markdown",
   "metadata": {},
   "source": [
    "- 9\n",
    "![](../Photo/50.png)"
   ]
  },
  {
   "cell_type": "code",
   "execution_count": 7,
   "metadata": {},
   "outputs": [
    {
     "name": "stdout",
     "output_type": "stream",
     "text": [
      "year: 2018\n",
      "month: 8\n",
      "day of month: 1-31 30\n",
      "5\n",
      "day of the week is  Thu\n"
     ]
    }
   ],
   "source": [
    "import math\n",
    "year=eval(input('year: '))\n",
    "month=eval(input('month: '))\n",
    "day=eval(input('day of month: 1-31 '))\n",
    "j=year/100\n",
    "k=year%100\n",
    "z=( day+((26*(month+1))/10)+k+k/4+j/4+5*j )%7\n",
    "h=math.floor(z)-1\n",
    "print(h)\n",
    "if h==0:\n",
    "    print('day of the week is  Sat' )\n",
    "elif h==1:\n",
    "    print('day of the week is  Sun')\n",
    "elif h==2:\n",
    "    print('day of the week is  Mon')\n",
    "elif h==3:\n",
    "    print('day of the week is  Feb')\n",
    "elif h==4:\n",
    "    print('day of the week is  Wed')\n",
    "elif h==5:\n",
    "    print('day of the week is  Thu')\n",
    "elif h ==6:\n",
    "    print('day of the week is  Fri')\n"
   ]
  },
  {
   "cell_type": "markdown",
   "metadata": {},
   "source": [
    "- 10\n",
    "![](../Photo/51.png)"
   ]
  },
  {
   "cell_type": "code",
   "execution_count": null,
   "metadata": {
    "collapsed": true
   },
   "outputs": [],
   "source": []
  },
  {
   "cell_type": "markdown",
   "metadata": {},
   "source": [
    "- 11\n",
    "![](../Photo/52.png)"
   ]
  },
  {
   "cell_type": "code",
   "execution_count": null,
   "metadata": {
    "collapsed": true
   },
   "outputs": [],
   "source": [
    "q=eval(input('input a number: '))\n",
    "a=q//100\n",
    "b=(q-a*100)//10\n",
    "c=q-a*100-b*10\n",
    "if str(a)+str(b)+str(c)==str(c)+str(b)+str(a):\n",
    "    print(q,'the number is 回文')\n",
    "else:\n",
    "    print(q,'the num is not 回文')"
   ]
  },
  {
   "cell_type": "markdown",
   "metadata": {},
   "source": [
    "- 12\n",
    "![](../Photo/53.png)"
   ]
  },
  {
   "cell_type": "code",
   "execution_count": null,
   "metadata": {
    "collapsed": true
   },
   "outputs": [],
   "source": [
    "a,b,c=eval(input('a,b,c:'))\n",
    "if a+b>c :\n",
    "    z=a+b+c\n",
    "    print(z)\n",
    "else:\n",
    "    print('该三角形不成立')"
   ]
  }
 ],
 "metadata": {
  "kernelspec": {
   "display_name": "Python 3",
   "language": "python",
   "name": "python3"
  },
  "language_info": {
   "codemirror_mode": {
    "name": "ipython",
    "version": 3
   },
   "file_extension": ".py",
   "mimetype": "text/x-python",
   "name": "python",
   "nbconvert_exporter": "python",
   "pygments_lexer": "ipython3",
   "version": "3.6.1"
  }
 },
 "nbformat": 4,
 "nbformat_minor": 2
}
